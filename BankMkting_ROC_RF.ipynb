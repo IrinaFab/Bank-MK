{
  "nbformat": 4,
  "nbformat_minor": 0,
  "metadata": {
    "colab": {
      "name": "BankMkting_ROC RF.ipynb",
      "provenance": [],
      "collapsed_sections": [],
      "include_colab_link": true
    },
    "kernelspec": {
      "name": "python3",
      "display_name": "Python 3"
    },
    "language_info": {
      "name": "python"
    }
  },
  "cells": [
    {
      "cell_type": "markdown",
      "metadata": {
        "id": "view-in-github",
        "colab_type": "text"
      },
      "source": [
        "<a href=\"https://colab.research.google.com/github/IrinaFab/Bank-MK/blob/main/BankMkting_ROC_RF.ipynb\" target=\"_parent\"><img src=\"https://colab.research.google.com/assets/colab-badge.svg\" alt=\"Open In Colab\"/></a>"
      ]
    },
    {
      "cell_type": "code",
      "execution_count": 2,
      "metadata": {
        "id": "fRRsWXUecCNl"
      },
      "outputs": [],
      "source": [
        "# Import libraries\n",
        "## Basic libraries\n",
        "import pandas as pd\n",
        "import numpy as np\n",
        "from operator import itemgetter \n",
        "import warnings\n",
        "from pandas._libs import index\n",
        "\n",
        "## Data Visualization\n",
        "import seaborn as sns\n",
        "import matplotlib.pyplot as plt\n",
        "from matplotlib import colors\n",
        "\n",
        "from sklearn import preprocessing\n",
        "from sklearn.preprocessing import StandardScaler\n",
        "from sklearn.model_selection import train_test_split\n",
        "import sklearn.metrics as metrics\n",
        "from sklearn.metrics import confusion_matrix\n",
        "from sklearn.datasets import make_classification\n",
        "from sklearn.metrics import classification_report\n",
        "from sklearn.metrics import roc_curve\n",
        "from sklearn.metrics import roc_auc_score\n",
        "\n",
        "from sklearn import tree\n",
        "from sklearn.tree import _tree\n",
        "from sklearn.ensemble import RandomForestClassifier    \n",
        "from sklearn.ensemble import GradientBoostingClassifier  \n",
        "from xgboost import XGBClassifier\n",
        "from sklearn.preprocessing import LabelEncoder, OneHotEncoder\n",
        "from sklearn.model_selection import cross_val_score\n",
        "from sklearn.model_selection import RepeatedKFold\n",
        "from sklearn.pipeline import Pipeline\n",
        "from sklearn.model_selection import GridSearchCV\n",
        "\n",
        "import scipy.stats as stats\n",
        "from IPython.display import Image\n",
        "\n",
        "from imblearn.over_sampling import SMOTE\n",
        "\n",
        "# Configure libraries\n",
        "warnings.filterwarnings('ignore')\n",
        "plt.rcParams['figure.figsize'] = (10, 10)\n",
        "plt.style.use('seaborn')"
      ]
    },
    {
      "cell_type": "code",
      "source": [
        "from google.colab import drive\n",
        "drive.mount('/content/drive')"
      ],
      "metadata": {
        "colab": {
          "base_uri": "https://localhost:8080/"
        },
        "id": "ztuxoNeuvtg3",
        "outputId": "7b0cb709-b0d3-41d7-9f3b-bd01b64e8e54"
      },
      "execution_count": 5,
      "outputs": [
        {
          "output_type": "stream",
          "name": "stdout",
          "text": [
            "Drive already mounted at /content/drive; to attempt to forcibly remount, call drive.mount(\"/content/drive\", force_remount=True).\n"
          ]
        }
      ]
    },
    {
      "cell_type": "code",
      "source": [
        "data = pd.read_csv('/content/drive/MyDrive/outpur.csv')"
      ],
      "metadata": {
        "id": "1FiIE4lzcJcW"
      },
      "execution_count": 6,
      "outputs": []
    },
    {
      "cell_type": "code",
      "source": [
        "data.shape"
      ],
      "metadata": {
        "colab": {
          "base_uri": "https://localhost:8080/"
        },
        "id": "bWdEK7qkMyGu",
        "outputId": "1e559eb4-fe29-4716-f224-e52d8ec49ccb"
      },
      "execution_count": 7,
      "outputs": [
        {
          "output_type": "execute_result",
          "data": {
            "text/plain": [
              "(41170, 38)"
            ]
          },
          "metadata": {},
          "execution_count": 7
        }
      ]
    },
    {
      "cell_type": "code",
      "source": [
        "data.head().T"
      ],
      "metadata": {
        "id": "62SsjdtxM1l2"
      },
      "execution_count": null,
      "outputs": []
    },
    {
      "cell_type": "code",
      "source": [
        "data = data.drop(['Unnamed: 0'], axis=1)\n",
        "data.columns"
      ],
      "metadata": {
        "id": "FfhleyPscknX",
        "colab": {
          "base_uri": "https://localhost:8080/"
        },
        "outputId": "2bf6f51c-7ee6-46fb-aafe-93f630715e54"
      },
      "execution_count": null,
      "outputs": [
        {
          "output_type": "execute_result",
          "data": {
            "text/plain": [
              "Index(['age', 'campaign', 'pdays', 'previous', 'emp.var.rate',\n",
              "       'cons.price.idx', 'cons.conf.idx', 'euribor3m', 'nr.employed', 'y',\n",
              "       'z_marital_divorced', 'z_marital_married', 'z_marital_single',\n",
              "       'z_default_no', 'z_default_yes', 'z_housing_no', 'z_housing_yes',\n",
              "       'z_loan_no', 'z_loan_yes', 'z_contact_cellular', 'z_contact_telephone',\n",
              "       'z_day_of_week_fri', 'z_day_of_week_mon', 'z_day_of_week_thu',\n",
              "       'z_day_of_week_tue', 'z_day_of_week_wed', 'z_poutcome_failure',\n",
              "       'z_poutcome_success', 'z_edu_new_high', 'z_edu_new_post_high',\n",
              "       'z_edu_new_pre_high', 'z_job_new_blue_collar', 'z_job_new_not_working',\n",
              "       'z_job_new_white_collar', 'z_season_fall', 'z_season_spring',\n",
              "       'z_season_summer'],\n",
              "      dtype='object')"
            ]
          },
          "metadata": {},
          "execution_count": 184
        }
      ]
    },
    {
      "cell_type": "code",
      "source": [
        "data.shape"
      ],
      "metadata": {
        "colab": {
          "base_uri": "https://localhost:8080/"
        },
        "id": "QmgEug9SNkDo",
        "outputId": "4892dc96-9175-43e3-b59b-41925189c091"
      },
      "execution_count": 9,
      "outputs": [
        {
          "output_type": "execute_result",
          "data": {
            "text/plain": [
              "(41170, 38)"
            ]
          },
          "metadata": {},
          "execution_count": 9
        }
      ]
    },
    {
      "cell_type": "code",
      "source": [
        "#replacing no and yes by 0 and 1 for 'y' (deposit)\n",
        "data['y'] = data['y'].replace(['no','yes'],[0,1])\n",
        "data['y'].unique()"
      ],
      "metadata": {
        "id": "R6BO18biO4d0",
        "colab": {
          "base_uri": "https://localhost:8080/"
        },
        "outputId": "71961d92-924a-4f5e-c414-d818a552ed6d"
      },
      "execution_count": 10,
      "outputs": [
        {
          "output_type": "execute_result",
          "data": {
            "text/plain": [
              "array([0, 1])"
            ]
          },
          "metadata": {},
          "execution_count": 10
        }
      ]
    },
    {
      "cell_type": "code",
      "source": [
        "TARGET = 'y'"
      ],
      "metadata": {
        "id": "brmQTFT1Mcue"
      },
      "execution_count": 11,
      "outputs": []
    },
    {
      "cell_type": "code",
      "source": [
        "# creating a copy of the data set\n",
        "x = data.copy()\n",
        "x.head().T"
      ],
      "metadata": {
        "id": "IQOumGH7_DJD"
      },
      "execution_count": null,
      "outputs": []
    },
    {
      "cell_type": "code",
      "source": [
        "# Preparing the data to be used to build the decision tree, dropping TARGET \n",
        "x = x.drop( TARGET, axis = 1 )\n",
        "x.head().T"
      ],
      "metadata": {
        "id": "ce8HS0J3_C4g"
      },
      "execution_count": null,
      "outputs": []
    },
    {
      "cell_type": "code",
      "source": [
        "x.shape"
      ],
      "metadata": {
        "colab": {
          "base_uri": "https://localhost:8080/"
        },
        "id": "wYOKqJTfOH9c",
        "outputId": "b902cf9c-57af-45fb-efc5-739c21c93505"
      },
      "execution_count": 14,
      "outputs": [
        {
          "output_type": "execute_result",
          "data": {
            "text/plain": [
              "(41170, 37)"
            ]
          },
          "metadata": {},
          "execution_count": 14
        }
      ]
    },
    {
      "cell_type": "code",
      "source": [
        "varNames = x.columns"
      ],
      "metadata": {
        "id": "nXVoVt4sPpBI"
      },
      "execution_count": 15,
      "outputs": []
    },
    {
      "cell_type": "markdown",
      "source": [
        "# Scaler \n",
        "Due to the different qualities of the indicators, standardized processing generally plays a crucial role in transforming raw data into dimensionless index, that is, each index value is at the same scale level. "
      ],
      "metadata": {
        "id": "lZuJuJt_NSwT"
      }
    },
    {
      "cell_type": "code",
      "source": [
        "ss = StandardScaler()\n",
        "x = ss.fit_transform(x)"
      ],
      "metadata": {
        "id": "qG16XTtU0Lde"
      },
      "execution_count": 16,
      "outputs": []
    },
    {
      "cell_type": "code",
      "source": [
        "x = pd.DataFrame(x)"
      ],
      "metadata": {
        "id": "9ffZWnmGQdUJ"
      },
      "execution_count": 17,
      "outputs": []
    },
    {
      "cell_type": "code",
      "source": [
        "x.head().T"
      ],
      "metadata": {
        "id": "_Xwz79HuUjOr"
      },
      "execution_count": null,
      "outputs": []
    },
    {
      "cell_type": "code",
      "source": [
        "varNames_std = []\n",
        "for i in varNames:\n",
        "  newName = \"std_\" + i\n",
        "  varNames_std.append(newName)\n",
        "\n",
        "x.columns = varNames_std\n",
        "x.head()"
      ],
      "metadata": {
        "colab": {
          "base_uri": "https://localhost:8080/",
          "height": 314
        },
        "id": "mBq1pARGQpvs",
        "outputId": "902fde5b-8041-4065-d731-0f564fe00092"
      },
      "execution_count": 19,
      "outputs": [
        {
          "output_type": "execute_result",
          "data": {
            "text/plain": [
              "   std_Unnamed: 0   std_age  std_campaign  std_pdays  std_previous  \\\n",
              "0       -1.731819  1.533626     -0.565884   0.195391     -0.349505   \n",
              "1       -1.731735  1.629600     -0.565884   0.195391     -0.349505   \n",
              "2       -1.731651 -0.289875     -0.565884   0.195391     -0.349505   \n",
              "3       -1.731567 -0.001954     -0.565884   0.195391     -0.349505   \n",
              "4       -1.731483  1.533626     -0.565884   0.195391     -0.349505   \n",
              "\n",
              "   std_emp.var.rate  std_cons.price.idx  std_cons.conf.idx  std_euribor3m  \\\n",
              "0          0.648055             0.72258           0.886542       0.712435   \n",
              "1          0.648055             0.72258           0.886542       0.712435   \n",
              "2          0.648055             0.72258           0.886542       0.712435   \n",
              "3          0.648055             0.72258           0.886542       0.712435   \n",
              "4          0.648055             0.72258           0.886542       0.712435   \n",
              "\n",
              "   std_nr.employed  ...  std_z_poutcome_success  std_z_edu_new_high  \\\n",
              "0         0.331689  ...               -0.185672           -0.548256   \n",
              "1         0.331689  ...               -0.185672            1.823966   \n",
              "2         0.331689  ...               -0.185672            1.823966   \n",
              "3         0.331689  ...               -0.185672           -0.548256   \n",
              "4         0.331689  ...               -0.185672            1.823966   \n",
              "\n",
              "   std_z_edu_new_post_high  std_z_edu_new_pre_high  std_z_job_new_blue_collar  \\\n",
              "0                -0.856047                1.513333                   0.979230   \n",
              "1                -0.856047               -0.660793                   0.979230   \n",
              "2                -0.856047               -0.660793                   0.979230   \n",
              "3                -0.856047                1.513333                  -1.021211   \n",
              "4                -0.856047               -0.660793                   0.979230   \n",
              "\n",
              "   std_z_job_new_not_working  std_z_job_new_white_collar  std_z_season_fall  \\\n",
              "0                  -0.309832                   -0.806165          -0.387962   \n",
              "1                  -0.309832                   -0.806165          -0.387962   \n",
              "2                  -0.309832                   -0.806165          -0.387962   \n",
              "3                  -0.309832                    1.240441          -0.387962   \n",
              "4                  -0.309832                   -0.806165          -0.387962   \n",
              "\n",
              "   std_z_season_spring  std_z_season_summer  \n",
              "0             1.195849            -0.910475  \n",
              "1             1.195849            -0.910475  \n",
              "2             1.195849            -0.910475  \n",
              "3             1.195849            -0.910475  \n",
              "4             1.195849            -0.910475  \n",
              "\n",
              "[5 rows x 37 columns]"
            ],
            "text/html": [
              "\n",
              "  <div id=\"df-a06d4492-95b3-4be9-81e7-6326fe51c847\">\n",
              "    <div class=\"colab-df-container\">\n",
              "      <div>\n",
              "<style scoped>\n",
              "    .dataframe tbody tr th:only-of-type {\n",
              "        vertical-align: middle;\n",
              "    }\n",
              "\n",
              "    .dataframe tbody tr th {\n",
              "        vertical-align: top;\n",
              "    }\n",
              "\n",
              "    .dataframe thead th {\n",
              "        text-align: right;\n",
              "    }\n",
              "</style>\n",
              "<table border=\"1\" class=\"dataframe\">\n",
              "  <thead>\n",
              "    <tr style=\"text-align: right;\">\n",
              "      <th></th>\n",
              "      <th>std_Unnamed: 0</th>\n",
              "      <th>std_age</th>\n",
              "      <th>std_campaign</th>\n",
              "      <th>std_pdays</th>\n",
              "      <th>std_previous</th>\n",
              "      <th>std_emp.var.rate</th>\n",
              "      <th>std_cons.price.idx</th>\n",
              "      <th>std_cons.conf.idx</th>\n",
              "      <th>std_euribor3m</th>\n",
              "      <th>std_nr.employed</th>\n",
              "      <th>...</th>\n",
              "      <th>std_z_poutcome_success</th>\n",
              "      <th>std_z_edu_new_high</th>\n",
              "      <th>std_z_edu_new_post_high</th>\n",
              "      <th>std_z_edu_new_pre_high</th>\n",
              "      <th>std_z_job_new_blue_collar</th>\n",
              "      <th>std_z_job_new_not_working</th>\n",
              "      <th>std_z_job_new_white_collar</th>\n",
              "      <th>std_z_season_fall</th>\n",
              "      <th>std_z_season_spring</th>\n",
              "      <th>std_z_season_summer</th>\n",
              "    </tr>\n",
              "  </thead>\n",
              "  <tbody>\n",
              "    <tr>\n",
              "      <th>0</th>\n",
              "      <td>-1.731819</td>\n",
              "      <td>1.533626</td>\n",
              "      <td>-0.565884</td>\n",
              "      <td>0.195391</td>\n",
              "      <td>-0.349505</td>\n",
              "      <td>0.648055</td>\n",
              "      <td>0.72258</td>\n",
              "      <td>0.886542</td>\n",
              "      <td>0.712435</td>\n",
              "      <td>0.331689</td>\n",
              "      <td>...</td>\n",
              "      <td>-0.185672</td>\n",
              "      <td>-0.548256</td>\n",
              "      <td>-0.856047</td>\n",
              "      <td>1.513333</td>\n",
              "      <td>0.979230</td>\n",
              "      <td>-0.309832</td>\n",
              "      <td>-0.806165</td>\n",
              "      <td>-0.387962</td>\n",
              "      <td>1.195849</td>\n",
              "      <td>-0.910475</td>\n",
              "    </tr>\n",
              "    <tr>\n",
              "      <th>1</th>\n",
              "      <td>-1.731735</td>\n",
              "      <td>1.629600</td>\n",
              "      <td>-0.565884</td>\n",
              "      <td>0.195391</td>\n",
              "      <td>-0.349505</td>\n",
              "      <td>0.648055</td>\n",
              "      <td>0.72258</td>\n",
              "      <td>0.886542</td>\n",
              "      <td>0.712435</td>\n",
              "      <td>0.331689</td>\n",
              "      <td>...</td>\n",
              "      <td>-0.185672</td>\n",
              "      <td>1.823966</td>\n",
              "      <td>-0.856047</td>\n",
              "      <td>-0.660793</td>\n",
              "      <td>0.979230</td>\n",
              "      <td>-0.309832</td>\n",
              "      <td>-0.806165</td>\n",
              "      <td>-0.387962</td>\n",
              "      <td>1.195849</td>\n",
              "      <td>-0.910475</td>\n",
              "    </tr>\n",
              "    <tr>\n",
              "      <th>2</th>\n",
              "      <td>-1.731651</td>\n",
              "      <td>-0.289875</td>\n",
              "      <td>-0.565884</td>\n",
              "      <td>0.195391</td>\n",
              "      <td>-0.349505</td>\n",
              "      <td>0.648055</td>\n",
              "      <td>0.72258</td>\n",
              "      <td>0.886542</td>\n",
              "      <td>0.712435</td>\n",
              "      <td>0.331689</td>\n",
              "      <td>...</td>\n",
              "      <td>-0.185672</td>\n",
              "      <td>1.823966</td>\n",
              "      <td>-0.856047</td>\n",
              "      <td>-0.660793</td>\n",
              "      <td>0.979230</td>\n",
              "      <td>-0.309832</td>\n",
              "      <td>-0.806165</td>\n",
              "      <td>-0.387962</td>\n",
              "      <td>1.195849</td>\n",
              "      <td>-0.910475</td>\n",
              "    </tr>\n",
              "    <tr>\n",
              "      <th>3</th>\n",
              "      <td>-1.731567</td>\n",
              "      <td>-0.001954</td>\n",
              "      <td>-0.565884</td>\n",
              "      <td>0.195391</td>\n",
              "      <td>-0.349505</td>\n",
              "      <td>0.648055</td>\n",
              "      <td>0.72258</td>\n",
              "      <td>0.886542</td>\n",
              "      <td>0.712435</td>\n",
              "      <td>0.331689</td>\n",
              "      <td>...</td>\n",
              "      <td>-0.185672</td>\n",
              "      <td>-0.548256</td>\n",
              "      <td>-0.856047</td>\n",
              "      <td>1.513333</td>\n",
              "      <td>-1.021211</td>\n",
              "      <td>-0.309832</td>\n",
              "      <td>1.240441</td>\n",
              "      <td>-0.387962</td>\n",
              "      <td>1.195849</td>\n",
              "      <td>-0.910475</td>\n",
              "    </tr>\n",
              "    <tr>\n",
              "      <th>4</th>\n",
              "      <td>-1.731483</td>\n",
              "      <td>1.533626</td>\n",
              "      <td>-0.565884</td>\n",
              "      <td>0.195391</td>\n",
              "      <td>-0.349505</td>\n",
              "      <td>0.648055</td>\n",
              "      <td>0.72258</td>\n",
              "      <td>0.886542</td>\n",
              "      <td>0.712435</td>\n",
              "      <td>0.331689</td>\n",
              "      <td>...</td>\n",
              "      <td>-0.185672</td>\n",
              "      <td>1.823966</td>\n",
              "      <td>-0.856047</td>\n",
              "      <td>-0.660793</td>\n",
              "      <td>0.979230</td>\n",
              "      <td>-0.309832</td>\n",
              "      <td>-0.806165</td>\n",
              "      <td>-0.387962</td>\n",
              "      <td>1.195849</td>\n",
              "      <td>-0.910475</td>\n",
              "    </tr>\n",
              "  </tbody>\n",
              "</table>\n",
              "<p>5 rows × 37 columns</p>\n",
              "</div>\n",
              "      <button class=\"colab-df-convert\" onclick=\"convertToInteractive('df-a06d4492-95b3-4be9-81e7-6326fe51c847')\"\n",
              "              title=\"Convert this dataframe to an interactive table.\"\n",
              "              style=\"display:none;\">\n",
              "        \n",
              "  <svg xmlns=\"http://www.w3.org/2000/svg\" height=\"24px\"viewBox=\"0 0 24 24\"\n",
              "       width=\"24px\">\n",
              "    <path d=\"M0 0h24v24H0V0z\" fill=\"none\"/>\n",
              "    <path d=\"M18.56 5.44l.94 2.06.94-2.06 2.06-.94-2.06-.94-.94-2.06-.94 2.06-2.06.94zm-11 1L8.5 8.5l.94-2.06 2.06-.94-2.06-.94L8.5 2.5l-.94 2.06-2.06.94zm10 10l.94 2.06.94-2.06 2.06-.94-2.06-.94-.94-2.06-.94 2.06-2.06.94z\"/><path d=\"M17.41 7.96l-1.37-1.37c-.4-.4-.92-.59-1.43-.59-.52 0-1.04.2-1.43.59L10.3 9.45l-7.72 7.72c-.78.78-.78 2.05 0 2.83L4 21.41c.39.39.9.59 1.41.59.51 0 1.02-.2 1.41-.59l7.78-7.78 2.81-2.81c.8-.78.8-2.07 0-2.86zM5.41 20L4 18.59l7.72-7.72 1.47 1.35L5.41 20z\"/>\n",
              "  </svg>\n",
              "      </button>\n",
              "      \n",
              "  <style>\n",
              "    .colab-df-container {\n",
              "      display:flex;\n",
              "      flex-wrap:wrap;\n",
              "      gap: 12px;\n",
              "    }\n",
              "\n",
              "    .colab-df-convert {\n",
              "      background-color: #E8F0FE;\n",
              "      border: none;\n",
              "      border-radius: 50%;\n",
              "      cursor: pointer;\n",
              "      display: none;\n",
              "      fill: #1967D2;\n",
              "      height: 32px;\n",
              "      padding: 0 0 0 0;\n",
              "      width: 32px;\n",
              "    }\n",
              "\n",
              "    .colab-df-convert:hover {\n",
              "      background-color: #E2EBFA;\n",
              "      box-shadow: 0px 1px 2px rgba(60, 64, 67, 0.3), 0px 1px 3px 1px rgba(60, 64, 67, 0.15);\n",
              "      fill: #174EA6;\n",
              "    }\n",
              "\n",
              "    [theme=dark] .colab-df-convert {\n",
              "      background-color: #3B4455;\n",
              "      fill: #D2E3FC;\n",
              "    }\n",
              "\n",
              "    [theme=dark] .colab-df-convert:hover {\n",
              "      background-color: #434B5C;\n",
              "      box-shadow: 0px 1px 3px 1px rgba(0, 0, 0, 0.15);\n",
              "      filter: drop-shadow(0px 1px 2px rgba(0, 0, 0, 0.3));\n",
              "      fill: #FFFFFF;\n",
              "    }\n",
              "  </style>\n",
              "\n",
              "      <script>\n",
              "        const buttonEl =\n",
              "          document.querySelector('#df-a06d4492-95b3-4be9-81e7-6326fe51c847 button.colab-df-convert');\n",
              "        buttonEl.style.display =\n",
              "          google.colab.kernel.accessAllowed ? 'block' : 'none';\n",
              "\n",
              "        async function convertToInteractive(key) {\n",
              "          const element = document.querySelector('#df-a06d4492-95b3-4be9-81e7-6326fe51c847');\n",
              "          const dataTable =\n",
              "            await google.colab.kernel.invokeFunction('convertToInteractive',\n",
              "                                                     [key], {});\n",
              "          if (!dataTable) return;\n",
              "\n",
              "          const docLinkHtml = 'Like what you see? Visit the ' +\n",
              "            '<a target=\"_blank\" href=https://colab.research.google.com/notebooks/data_table.ipynb>data table notebook</a>'\n",
              "            + ' to learn more about interactive tables.';\n",
              "          element.innerHTML = '';\n",
              "          dataTable['output_type'] = 'display_data';\n",
              "          await google.colab.output.renderOutput(dataTable, element);\n",
              "          const docLink = document.createElement('div');\n",
              "          docLink.innerHTML = docLinkHtml;\n",
              "          element.appendChild(docLink);\n",
              "        }\n",
              "      </script>\n",
              "    </div>\n",
              "  </div>\n",
              "  "
            ]
          },
          "metadata": {},
          "execution_count": 19
        }
      ]
    },
    {
      "cell_type": "code",
      "source": [
        "x.shape"
      ],
      "metadata": {
        "colab": {
          "base_uri": "https://localhost:8080/"
        },
        "id": "zEtMIMVE8p1_",
        "outputId": "7d0269c8-1950-4baf-8f16-a2e001dcfba5"
      },
      "execution_count": 20,
      "outputs": [
        {
          "output_type": "execute_result",
          "data": {
            "text/plain": [
              "(41170, 37)"
            ]
          },
          "metadata": {},
          "execution_count": 20
        }
      ]
    },
    {
      "cell_type": "code",
      "source": [
        "# storing the target into a dataframe\n",
        "y = data[[TARGET]] \n",
        "y.head(20).T"
      ],
      "metadata": {
        "colab": {
          "base_uri": "https://localhost:8080/",
          "height": 80
        },
        "id": "ZkGtmoNs_Cs7",
        "outputId": "e5f48dfe-a96f-4ecb-e231-5f986c7c03a0"
      },
      "execution_count": 21,
      "outputs": [
        {
          "output_type": "execute_result",
          "data": {
            "text/plain": [
              "   0   1   2   3   4   5   6   7   8   9   10  11  12  13  14  15  16  17  18  \\\n",
              "y   0   0   0   0   0   0   0   0   0   0   0   0   0   0   0   0   0   0   0   \n",
              "\n",
              "   19  \n",
              "y   0  "
            ],
            "text/html": [
              "\n",
              "  <div id=\"df-1a32bc16-6835-4957-b39a-8592a34591e6\">\n",
              "    <div class=\"colab-df-container\">\n",
              "      <div>\n",
              "<style scoped>\n",
              "    .dataframe tbody tr th:only-of-type {\n",
              "        vertical-align: middle;\n",
              "    }\n",
              "\n",
              "    .dataframe tbody tr th {\n",
              "        vertical-align: top;\n",
              "    }\n",
              "\n",
              "    .dataframe thead th {\n",
              "        text-align: right;\n",
              "    }\n",
              "</style>\n",
              "<table border=\"1\" class=\"dataframe\">\n",
              "  <thead>\n",
              "    <tr style=\"text-align: right;\">\n",
              "      <th></th>\n",
              "      <th>0</th>\n",
              "      <th>1</th>\n",
              "      <th>2</th>\n",
              "      <th>3</th>\n",
              "      <th>4</th>\n",
              "      <th>5</th>\n",
              "      <th>6</th>\n",
              "      <th>7</th>\n",
              "      <th>8</th>\n",
              "      <th>9</th>\n",
              "      <th>10</th>\n",
              "      <th>11</th>\n",
              "      <th>12</th>\n",
              "      <th>13</th>\n",
              "      <th>14</th>\n",
              "      <th>15</th>\n",
              "      <th>16</th>\n",
              "      <th>17</th>\n",
              "      <th>18</th>\n",
              "      <th>19</th>\n",
              "    </tr>\n",
              "  </thead>\n",
              "  <tbody>\n",
              "    <tr>\n",
              "      <th>y</th>\n",
              "      <td>0</td>\n",
              "      <td>0</td>\n",
              "      <td>0</td>\n",
              "      <td>0</td>\n",
              "      <td>0</td>\n",
              "      <td>0</td>\n",
              "      <td>0</td>\n",
              "      <td>0</td>\n",
              "      <td>0</td>\n",
              "      <td>0</td>\n",
              "      <td>0</td>\n",
              "      <td>0</td>\n",
              "      <td>0</td>\n",
              "      <td>0</td>\n",
              "      <td>0</td>\n",
              "      <td>0</td>\n",
              "      <td>0</td>\n",
              "      <td>0</td>\n",
              "      <td>0</td>\n",
              "      <td>0</td>\n",
              "    </tr>\n",
              "  </tbody>\n",
              "</table>\n",
              "</div>\n",
              "      <button class=\"colab-df-convert\" onclick=\"convertToInteractive('df-1a32bc16-6835-4957-b39a-8592a34591e6')\"\n",
              "              title=\"Convert this dataframe to an interactive table.\"\n",
              "              style=\"display:none;\">\n",
              "        \n",
              "  <svg xmlns=\"http://www.w3.org/2000/svg\" height=\"24px\"viewBox=\"0 0 24 24\"\n",
              "       width=\"24px\">\n",
              "    <path d=\"M0 0h24v24H0V0z\" fill=\"none\"/>\n",
              "    <path d=\"M18.56 5.44l.94 2.06.94-2.06 2.06-.94-2.06-.94-.94-2.06-.94 2.06-2.06.94zm-11 1L8.5 8.5l.94-2.06 2.06-.94-2.06-.94L8.5 2.5l-.94 2.06-2.06.94zm10 10l.94 2.06.94-2.06 2.06-.94-2.06-.94-.94-2.06-.94 2.06-2.06.94z\"/><path d=\"M17.41 7.96l-1.37-1.37c-.4-.4-.92-.59-1.43-.59-.52 0-1.04.2-1.43.59L10.3 9.45l-7.72 7.72c-.78.78-.78 2.05 0 2.83L4 21.41c.39.39.9.59 1.41.59.51 0 1.02-.2 1.41-.59l7.78-7.78 2.81-2.81c.8-.78.8-2.07 0-2.86zM5.41 20L4 18.59l7.72-7.72 1.47 1.35L5.41 20z\"/>\n",
              "  </svg>\n",
              "      </button>\n",
              "      \n",
              "  <style>\n",
              "    .colab-df-container {\n",
              "      display:flex;\n",
              "      flex-wrap:wrap;\n",
              "      gap: 12px;\n",
              "    }\n",
              "\n",
              "    .colab-df-convert {\n",
              "      background-color: #E8F0FE;\n",
              "      border: none;\n",
              "      border-radius: 50%;\n",
              "      cursor: pointer;\n",
              "      display: none;\n",
              "      fill: #1967D2;\n",
              "      height: 32px;\n",
              "      padding: 0 0 0 0;\n",
              "      width: 32px;\n",
              "    }\n",
              "\n",
              "    .colab-df-convert:hover {\n",
              "      background-color: #E2EBFA;\n",
              "      box-shadow: 0px 1px 2px rgba(60, 64, 67, 0.3), 0px 1px 3px 1px rgba(60, 64, 67, 0.15);\n",
              "      fill: #174EA6;\n",
              "    }\n",
              "\n",
              "    [theme=dark] .colab-df-convert {\n",
              "      background-color: #3B4455;\n",
              "      fill: #D2E3FC;\n",
              "    }\n",
              "\n",
              "    [theme=dark] .colab-df-convert:hover {\n",
              "      background-color: #434B5C;\n",
              "      box-shadow: 0px 1px 3px 1px rgba(0, 0, 0, 0.15);\n",
              "      filter: drop-shadow(0px 1px 2px rgba(0, 0, 0, 0.3));\n",
              "      fill: #FFFFFF;\n",
              "    }\n",
              "  </style>\n",
              "\n",
              "      <script>\n",
              "        const buttonEl =\n",
              "          document.querySelector('#df-1a32bc16-6835-4957-b39a-8592a34591e6 button.colab-df-convert');\n",
              "        buttonEl.style.display =\n",
              "          google.colab.kernel.accessAllowed ? 'block' : 'none';\n",
              "\n",
              "        async function convertToInteractive(key) {\n",
              "          const element = document.querySelector('#df-1a32bc16-6835-4957-b39a-8592a34591e6');\n",
              "          const dataTable =\n",
              "            await google.colab.kernel.invokeFunction('convertToInteractive',\n",
              "                                                     [key], {});\n",
              "          if (!dataTable) return;\n",
              "\n",
              "          const docLinkHtml = 'Like what you see? Visit the ' +\n",
              "            '<a target=\"_blank\" href=https://colab.research.google.com/notebooks/data_table.ipynb>data table notebook</a>'\n",
              "            + ' to learn more about interactive tables.';\n",
              "          element.innerHTML = '';\n",
              "          dataTable['output_type'] = 'display_data';\n",
              "          await google.colab.output.renderOutput(dataTable, element);\n",
              "          const docLink = document.createElement('div');\n",
              "          docLink.innerHTML = docLinkHtml;\n",
              "          element.appendChild(docLink);\n",
              "        }\n",
              "      </script>\n",
              "    </div>\n",
              "  </div>\n",
              "  "
            ]
          },
          "metadata": {},
          "execution_count": 21
        }
      ]
    },
    {
      "cell_type": "code",
      "source": [
        "# Splitting dataset \n",
        "x_train, x_test, y_train, y_test = train_test_split(x, y, train_size = 0.8, test_size = 0.2, random_state = 1)"
      ],
      "metadata": {
        "id": "a-G1wVtA_Cgd"
      },
      "execution_count": 22,
      "outputs": []
    },
    {
      "cell_type": "code",
      "source": [
        "print('FLAG DATA:', '\\n')\n",
        "print('Shape of original INPUT data set:', x.shape)\n",
        "print('Shape of original OUTPUT data set:', y.shape, '\\n')\n",
        "print('Shape of input TRAINING data set:', x_train.shape)\n",
        "print('Shape of output TRAINING data set:', y_train.shape, '\\n')\n",
        "print('Shape of input TEST data set:', x_test.shape)\n",
        "print('Shape of output TEST data set:', y_test.shape)"
      ],
      "metadata": {
        "colab": {
          "base_uri": "https://localhost:8080/"
        },
        "id": "0J8wDYBL_CXx",
        "outputId": "e24ebeb4-2105-4106-def6-f4a4b6c10609"
      },
      "execution_count": 23,
      "outputs": [
        {
          "output_type": "stream",
          "name": "stdout",
          "text": [
            "FLAG DATA: \n",
            "\n",
            "Shape of original INPUT data set: (41170, 37)\n",
            "Shape of original OUTPUT data set: (41170, 1) \n",
            "\n",
            "Shape of input TRAINING data set: (32936, 37)\n",
            "Shape of output TRAINING data set: (32936, 1) \n",
            "\n",
            "Shape of input TEST data set: (8234, 37)\n",
            "Shape of output TEST data set: (8234, 1)\n"
          ]
        }
      ]
    },
    {
      "cell_type": "markdown",
      "source": [
        "# Balancing target with SMOTE"
      ],
      "metadata": {
        "id": "3CxnAgnlQiAy"
      }
    },
    {
      "cell_type": "code",
      "source": [
        "smote = SMOTE()\n",
        "x_train, y_train = smote.fit_resample(x_train, y_train)"
      ],
      "metadata": {
        "id": "eRUNQ4vECPOe"
      },
      "execution_count": 24,
      "outputs": []
    },
    {
      "cell_type": "code",
      "source": [
        "print('Shape of input TRAINING data set following SMOTE:', x_train.shape)\n",
        "print('Shape of output TRAINING data set following SMOTE:', y_train.shape, '\\n')\n",
        "print('Shape of input TEST data set following SMOTE:', x_test.shape)\n",
        "print('Shape of output TEST data set following SMOTE:', y_test.shape)"
      ],
      "metadata": {
        "colab": {
          "base_uri": "https://localhost:8080/"
        },
        "id": "LDUhPncDClt7",
        "outputId": "f861179c-81bc-4834-b767-92b312cfc035"
      },
      "execution_count": 25,
      "outputs": [
        {
          "output_type": "stream",
          "name": "stdout",
          "text": [
            "Shape of input TRAINING data set following SMOTE: (58388, 37)\n",
            "Shape of output TRAINING data set following SMOTE: (58388, 1) \n",
            "\n",
            "Shape of input TEST data set following SMOTE: (8234, 37)\n",
            "Shape of output TEST data set following SMOTE: (8234, 1)\n"
          ]
        }
      ]
    },
    {
      "cell_type": "code",
      "source": [
        "y_train.value_counts()"
      ],
      "metadata": {
        "colab": {
          "base_uri": "https://localhost:8080/"
        },
        "id": "2v7r2lYyC1fj",
        "outputId": "492b8940-e5a2-4184-fa93-c2f5fd387684"
      },
      "execution_count": 26,
      "outputs": [
        {
          "output_type": "execute_result",
          "data": {
            "text/plain": [
              "y\n",
              "0    29194\n",
              "1    29194\n",
              "dtype: int64"
            ]
          },
          "metadata": {},
          "execution_count": 26
        }
      ]
    },
    {
      "cell_type": "markdown",
      "source": [
        "# Random Forest"
      ],
      "metadata": {
        "id": "qZE3OMb8AjJT"
      }
    },
    {
      "cell_type": "code",
      "source": [
        "# creating gradient boosting classifier with respect to TARGET\n",
        "my_GB = GradientBoostingClassifier( random_state = 1 )\n",
        "my_GB = my_GB.fit( x_train, y_train[ TARGET ] )"
      ],
      "metadata": {
        "id": "vMWXjYALAM2h"
      },
      "execution_count": 28,
      "outputs": []
    },
    {
      "cell_type": "code",
      "source": [
        "# scoring the predictions (client subscribes or not)\n",
        "y_Pred_train = my_RF.predict(x_train)\n",
        "y_Pred_test = my_RF.predict(x_test)"
      ],
      "metadata": {
        "id": "8FTQwIeWAMfc"
      },
      "execution_count": 30,
      "outputs": []
    },
    {
      "cell_type": "code",
      "source": [
        "# calculating the accuracy based on the metrics between the real scores and the predicted ones for both taining and test data sets\n",
        "print('The accuracy of the RF model based on the training data set is ',metrics.accuracy_score(y_train[TARGET], y_Pred_train))\n",
        "print('The accuracy of the RF model based on the test data set is',metrics.accuracy_score(y_test[TARGET], y_Pred_test))"
      ],
      "metadata": {
        "colab": {
          "base_uri": "https://localhost:8080/"
        },
        "id": "Fv7oqkxxAMoc",
        "outputId": "ff6f7de0-57a2-44d8-cb8f-ee5d8875f575"
      },
      "execution_count": 31,
      "outputs": [
        {
          "output_type": "stream",
          "name": "stdout",
          "text": [
            "The accuracy of the RF model based on the training data set is  0.9999828731931218\n",
            "The accuracy of the RF model based on the test data set is 0.888268156424581\n"
          ]
        }
      ]
    },
    {
      "cell_type": "code",
      "source": [
        "from sklearn.datasets import make_classification"
      ],
      "metadata": {
        "id": "V-Ym2UGoqcix"
      },
      "execution_count": 32,
      "outputs": []
    },
    {
      "cell_type": "markdown",
      "source": [
        "# Confusion Matrix RF"
      ],
      "metadata": {
        "id": "0UA2zr_T8mbV"
      }
    },
    {
      "cell_type": "code",
      "source": [
        "confusion_matrix(y_test[TARGET], y_Pred_test)\n",
        "pd.crosstab(y_test[TARGET], y_Pred_test, rownames = ['Actual'], colnames =['Predicted'], margins = True)"
      ],
      "metadata": {
        "colab": {
          "base_uri": "https://localhost:8080/",
          "height": 173
        },
        "id": "Tejdnbkx8WSu",
        "outputId": "efe16661-b056-4852-f870-3eff1af4c324"
      },
      "execution_count": 33,
      "outputs": [
        {
          "output_type": "execute_result",
          "data": {
            "text/plain": [
              "Predicted     0    1   All\n",
              "Actual                    \n",
              "0          6975  365  7340\n",
              "1           555  339   894\n",
              "All        7530  704  8234"
            ],
            "text/html": [
              "\n",
              "  <div id=\"df-8553cb8c-48f8-46a2-804e-d83f6ff20983\">\n",
              "    <div class=\"colab-df-container\">\n",
              "      <div>\n",
              "<style scoped>\n",
              "    .dataframe tbody tr th:only-of-type {\n",
              "        vertical-align: middle;\n",
              "    }\n",
              "\n",
              "    .dataframe tbody tr th {\n",
              "        vertical-align: top;\n",
              "    }\n",
              "\n",
              "    .dataframe thead th {\n",
              "        text-align: right;\n",
              "    }\n",
              "</style>\n",
              "<table border=\"1\" class=\"dataframe\">\n",
              "  <thead>\n",
              "    <tr style=\"text-align: right;\">\n",
              "      <th>Predicted</th>\n",
              "      <th>0</th>\n",
              "      <th>1</th>\n",
              "      <th>All</th>\n",
              "    </tr>\n",
              "    <tr>\n",
              "      <th>Actual</th>\n",
              "      <th></th>\n",
              "      <th></th>\n",
              "      <th></th>\n",
              "    </tr>\n",
              "  </thead>\n",
              "  <tbody>\n",
              "    <tr>\n",
              "      <th>0</th>\n",
              "      <td>6975</td>\n",
              "      <td>365</td>\n",
              "      <td>7340</td>\n",
              "    </tr>\n",
              "    <tr>\n",
              "      <th>1</th>\n",
              "      <td>555</td>\n",
              "      <td>339</td>\n",
              "      <td>894</td>\n",
              "    </tr>\n",
              "    <tr>\n",
              "      <th>All</th>\n",
              "      <td>7530</td>\n",
              "      <td>704</td>\n",
              "      <td>8234</td>\n",
              "    </tr>\n",
              "  </tbody>\n",
              "</table>\n",
              "</div>\n",
              "      <button class=\"colab-df-convert\" onclick=\"convertToInteractive('df-8553cb8c-48f8-46a2-804e-d83f6ff20983')\"\n",
              "              title=\"Convert this dataframe to an interactive table.\"\n",
              "              style=\"display:none;\">\n",
              "        \n",
              "  <svg xmlns=\"http://www.w3.org/2000/svg\" height=\"24px\"viewBox=\"0 0 24 24\"\n",
              "       width=\"24px\">\n",
              "    <path d=\"M0 0h24v24H0V0z\" fill=\"none\"/>\n",
              "    <path d=\"M18.56 5.44l.94 2.06.94-2.06 2.06-.94-2.06-.94-.94-2.06-.94 2.06-2.06.94zm-11 1L8.5 8.5l.94-2.06 2.06-.94-2.06-.94L8.5 2.5l-.94 2.06-2.06.94zm10 10l.94 2.06.94-2.06 2.06-.94-2.06-.94-.94-2.06-.94 2.06-2.06.94z\"/><path d=\"M17.41 7.96l-1.37-1.37c-.4-.4-.92-.59-1.43-.59-.52 0-1.04.2-1.43.59L10.3 9.45l-7.72 7.72c-.78.78-.78 2.05 0 2.83L4 21.41c.39.39.9.59 1.41.59.51 0 1.02-.2 1.41-.59l7.78-7.78 2.81-2.81c.8-.78.8-2.07 0-2.86zM5.41 20L4 18.59l7.72-7.72 1.47 1.35L5.41 20z\"/>\n",
              "  </svg>\n",
              "      </button>\n",
              "      \n",
              "  <style>\n",
              "    .colab-df-container {\n",
              "      display:flex;\n",
              "      flex-wrap:wrap;\n",
              "      gap: 12px;\n",
              "    }\n",
              "\n",
              "    .colab-df-convert {\n",
              "      background-color: #E8F0FE;\n",
              "      border: none;\n",
              "      border-radius: 50%;\n",
              "      cursor: pointer;\n",
              "      display: none;\n",
              "      fill: #1967D2;\n",
              "      height: 32px;\n",
              "      padding: 0 0 0 0;\n",
              "      width: 32px;\n",
              "    }\n",
              "\n",
              "    .colab-df-convert:hover {\n",
              "      background-color: #E2EBFA;\n",
              "      box-shadow: 0px 1px 2px rgba(60, 64, 67, 0.3), 0px 1px 3px 1px rgba(60, 64, 67, 0.15);\n",
              "      fill: #174EA6;\n",
              "    }\n",
              "\n",
              "    [theme=dark] .colab-df-convert {\n",
              "      background-color: #3B4455;\n",
              "      fill: #D2E3FC;\n",
              "    }\n",
              "\n",
              "    [theme=dark] .colab-df-convert:hover {\n",
              "      background-color: #434B5C;\n",
              "      box-shadow: 0px 1px 3px 1px rgba(0, 0, 0, 0.15);\n",
              "      filter: drop-shadow(0px 1px 2px rgba(0, 0, 0, 0.3));\n",
              "      fill: #FFFFFF;\n",
              "    }\n",
              "  </style>\n",
              "\n",
              "      <script>\n",
              "        const buttonEl =\n",
              "          document.querySelector('#df-8553cb8c-48f8-46a2-804e-d83f6ff20983 button.colab-df-convert');\n",
              "        buttonEl.style.display =\n",
              "          google.colab.kernel.accessAllowed ? 'block' : 'none';\n",
              "\n",
              "        async function convertToInteractive(key) {\n",
              "          const element = document.querySelector('#df-8553cb8c-48f8-46a2-804e-d83f6ff20983');\n",
              "          const dataTable =\n",
              "            await google.colab.kernel.invokeFunction('convertToInteractive',\n",
              "                                                     [key], {});\n",
              "          if (!dataTable) return;\n",
              "\n",
              "          const docLinkHtml = 'Like what you see? Visit the ' +\n",
              "            '<a target=\"_blank\" href=https://colab.research.google.com/notebooks/data_table.ipynb>data table notebook</a>'\n",
              "            + ' to learn more about interactive tables.';\n",
              "          element.innerHTML = '';\n",
              "          dataTable['output_type'] = 'display_data';\n",
              "          await google.colab.output.renderOutput(dataTable, element);\n",
              "          const docLink = document.createElement('div');\n",
              "          docLink.innerHTML = docLinkHtml;\n",
              "          element.appendChild(docLink);\n",
              "        }\n",
              "      </script>\n",
              "    </div>\n",
              "  </div>\n",
              "  "
            ]
          },
          "metadata": {},
          "execution_count": 33
        }
      ]
    },
    {
      "cell_type": "markdown",
      "source": [
        "# Classification Report RF"
      ],
      "metadata": {
        "id": "_BuHZX9X8ij1"
      }
    },
    {
      "cell_type": "code",
      "source": [
        "print(classification_report(y_train[TARGET], y_Pred_train))"
      ],
      "metadata": {
        "colab": {
          "base_uri": "https://localhost:8080/"
        },
        "id": "QMch3zDfR19U",
        "outputId": "6b7d148f-c2cd-4aec-c154-9bdbeed5d08b"
      },
      "execution_count": 34,
      "outputs": [
        {
          "output_type": "stream",
          "name": "stdout",
          "text": [
            "              precision    recall  f1-score   support\n",
            "\n",
            "           0       1.00      1.00      1.00     29194\n",
            "           1       1.00      1.00      1.00     29194\n",
            "\n",
            "    accuracy                           1.00     58388\n",
            "   macro avg       1.00      1.00      1.00     58388\n",
            "weighted avg       1.00      1.00      1.00     58388\n",
            "\n"
          ]
        }
      ]
    },
    {
      "cell_type": "code",
      "source": [
        "print(classification_report(y_test[TARGET], y_Pred_test))"
      ],
      "metadata": {
        "colab": {
          "base_uri": "https://localhost:8080/"
        },
        "id": "ccJE6u0i8hSi",
        "outputId": "e886f12c-1084-4422-a1a6-e877a3f9f6e9"
      },
      "execution_count": 35,
      "outputs": [
        {
          "output_type": "stream",
          "name": "stdout",
          "text": [
            "              precision    recall  f1-score   support\n",
            "\n",
            "           0       0.93      0.95      0.94      7340\n",
            "           1       0.48      0.38      0.42       894\n",
            "\n",
            "    accuracy                           0.89      8234\n",
            "   macro avg       0.70      0.66      0.68      8234\n",
            "weighted avg       0.88      0.89      0.88      8234\n",
            "\n"
          ]
        }
      ]
    },
    {
      "cell_type": "code",
      "source": [
        "probs = my_RF.predict_proba(x_train)\n",
        "p1 = probs[:,1]\n",
        "fpr_train, tpr_train, threshold = metrics.roc_curve( y_train[TARGET], p1)\n",
        "roc_auc_train = metrics.auc(fpr_train, tpr_train)\n",
        "\n",
        "probs = my_RF.predict_proba(x_test)\n",
        "p1 = probs[:,1]\n",
        "fpr_test, tpr_test, threshold = metrics.roc_curve( y_test[TARGET], p1)\n",
        "roc_auc_test = metrics.auc(fpr_test, tpr_test)"
      ],
      "metadata": {
        "id": "grk76w0LAMWV"
      },
      "execution_count": 36,
      "outputs": []
    },
    {
      "cell_type": "code",
      "source": [
        "# saving variables for final comparison \n",
        "fpr_RF = fpr_test\n",
        "tpr_RF = tpr_test\n",
        "auc_RF = roc_auc_test"
      ],
      "metadata": {
        "id": "hP142KwHAMMu"
      },
      "execution_count": 37,
      "outputs": []
    },
    {
      "cell_type": "code",
      "source": [
        "feature_cols = list( x.columns.values )\n",
        "vars_RF_flag = getEnsembleTreeVars(my_RF, feature_cols )"
      ],
      "metadata": {
        "id": "BSvFNINpAMDw"
      },
      "execution_count": 47,
      "outputs": []
    },
    {
      "cell_type": "code",
      "source": [
        "# printing the variables that are the most important\n",
        "for i in vars_RF_flag :\n",
        "   print( i )"
      ],
      "metadata": {
        "colab": {
          "base_uri": "https://localhost:8080/"
        },
        "id": "y1hDAJsuAL74",
        "outputId": "fd11683a-14b6-4ea4-d054-b0f9171118a3"
      },
      "execution_count": 48,
      "outputs": [
        {
          "output_type": "stream",
          "name": "stdout",
          "text": [
            "('std_Unnamed: 0', 100)\n",
            "('std_euribor3m', 72)\n",
            "('std_campaign', 67)\n",
            "('std_cons.conf.idx', 47)\n",
            "('std_age', 46)\n",
            "('std_nr.employed', 38)\n",
            "('std_cons.price.idx', 32)\n",
            "('std_emp.var.rate', 24)\n",
            "('std_z_default_no', 21)\n"
          ]
        }
      ]
    },
    {
      "cell_type": "code",
      "source": [
        "plt.title('RF ROC CURVE')\n",
        "plt.plot(fpr_train, tpr_train, 'b', label = 'AUC TRAIN = %0.2f' % roc_auc_train)\n",
        "plt.plot(fpr_test, tpr_test, 'b', label = 'AUC TEST = %0.2f' % roc_auc_test, color = 'red')\n",
        "plt.legend(loc = 'lower right')\n",
        "plt.plot([0, 1], [0, 1],'r--')\n",
        "plt.xlim([0, 1])\n",
        "plt.ylim([0, 1])\n",
        "plt.ylabel('True Positive Rate')\n",
        "plt.xlabel('False Positive Rate')\n",
        "plt.show()"
      ],
      "metadata": {
        "colab": {
          "base_uri": "https://localhost:8080/",
          "height": 376
        },
        "id": "ETZDQFT5A5XB",
        "outputId": "fc244663-3973-46c8-875c-e26012b4b0d3"
      },
      "execution_count": 49,
      "outputs": [
        {
          "output_type": "display_data",
          "data": {
            "text/plain": [
              "<Figure size 576x396 with 1 Axes>"
            ],
            "image/png": "[encoded data removed]"
          },
          "metadata": {}
        }
      ]
    },
    {
      "cell_type": "markdown",
      "source": [
        "ROC from scratch"
      ],
      "metadata": {
        "id": "8AdRVpG-kd1h"
      }
    },
    {
      "cell_type": "code",
      "source": [
        "y_Pred_train = my_RF.predict_proba(x_train)[:, 1]\n",
        "y_Pred_test = my_RF.predict_proba(x_test)[:, 1]"
      ],
      "metadata": {
        "id": "3NPRzGn2jtKm"
      },
      "execution_count": 50,
      "outputs": []
    },
    {
      "cell_type": "code",
      "source": [
        "def roc_from_scratch(probabilities, y_test, partitions=10):\n",
        "    roc = {}\n",
        "    for i in range(partitions + 1):\n",
        "        \n",
        "        threshold_vector = [1 if y > i/partitions else 0 for y in probabilities]\n",
        "        tpr, fpr = true_false_positive(threshold_vector, y_test)\n",
        "        roc[i/partitions] = [fpr, tpr]\n",
        "        \n",
        "    return pd.DataFrame(roc)"
      ],
      "metadata": {
        "id": "doOAyvVrkbtl"
      },
      "execution_count": 43,
      "outputs": []
    },
    {
      "cell_type": "code",
      "source": [
        "def true_false_positive(threshold_vector, y_test):\n",
        "    true_positive = np.equal(threshold_vector, 1) & np.equal(y_test, 1)\n",
        "    true_negative = np.equal(threshold_vector, 0) & np.equal(y_test, 0)\n",
        "    false_positive = np.equal(threshold_vector, 1) & np.equal(y_test, 0)\n",
        "    false_negative = np.equal(threshold_vector, 0) & np.equal(y_test, 1)\n",
        "\n",
        "    tpr = true_positive.sum() / (true_positive.sum() + false_negative.sum())\n",
        "    fpr = false_positive.sum() / (false_positive.sum() + true_negative.sum())\n",
        "\n",
        "    return tpr, fpr"
      ],
      "metadata": {
        "id": "XlareMYNkYrT"
      },
      "execution_count": 44,
      "outputs": []
    },
    {
      "cell_type": "code",
      "source": [
        "roc_from_scratch(y_Pred_test, y_test[TARGET], partitions=10).T "
      ],
      "metadata": {
        "id": "BYwDyURDkVak",
        "colab": {
          "base_uri": "https://localhost:8080/",
          "height": 390
        },
        "outputId": "2ae29a9c-3161-427a-d399-7efad53b7ce2"
      },
      "execution_count": 45,
      "outputs": [
        {
          "output_type": "execute_result",
          "data": {
            "text/plain": [
              "            0         1\n",
              "0.0  0.898638  0.965324\n",
              "0.1  0.309264  0.710291\n",
              "0.2  0.166894  0.588367\n",
              "0.3  0.108174  0.513423\n",
              "0.4  0.073569  0.448546\n",
              "0.5  0.049728  0.379195\n",
              "0.6  0.031880  0.295302\n",
              "0.7  0.018120  0.210291\n",
              "0.8  0.006676  0.119687\n",
              "0.9  0.002044  0.050336\n",
              "1.0  0.000000  0.000000"
            ],
            "text/html": [
              "\n",
              "  <div id=\"df-c33717ea-aba5-4c10-99dd-a28b69aa24af\">\n",
              "    <div class=\"colab-df-container\">\n",
              "      <div>\n",
              "<style scoped>\n",
              "    .dataframe tbody tr th:only-of-type {\n",
              "        vertical-align: middle;\n",
              "    }\n",
              "\n",
              "    .dataframe tbody tr th {\n",
              "        vertical-align: top;\n",
              "    }\n",
              "\n",
              "    .dataframe thead th {\n",
              "        text-align: right;\n",
              "    }\n",
              "</style>\n",
              "<table border=\"1\" class=\"dataframe\">\n",
              "  <thead>\n",
              "    <tr style=\"text-align: right;\">\n",
              "      <th></th>\n",
              "      <th>0</th>\n",
              "      <th>1</th>\n",
              "    </tr>\n",
              "  </thead>\n",
              "  <tbody>\n",
              "    <tr>\n",
              "      <th>0.0</th>\n",
              "      <td>0.898638</td>\n",
              "      <td>0.965324</td>\n",
              "    </tr>\n",
              "    <tr>\n",
              "      <th>0.1</th>\n",
              "      <td>0.309264</td>\n",
              "      <td>0.710291</td>\n",
              "    </tr>\n",
              "    <tr>\n",
              "      <th>0.2</th>\n",
              "      <td>0.166894</td>\n",
              "      <td>0.588367</td>\n",
              "    </tr>\n",
              "    <tr>\n",
              "      <th>0.3</th>\n",
              "      <td>0.108174</td>\n",
              "      <td>0.513423</td>\n",
              "    </tr>\n",
              "    <tr>\n",
              "      <th>0.4</th>\n",
              "      <td>0.073569</td>\n",
              "      <td>0.448546</td>\n",
              "    </tr>\n",
              "    <tr>\n",
              "      <th>0.5</th>\n",
              "      <td>0.049728</td>\n",
              "      <td>0.379195</td>\n",
              "    </tr>\n",
              "    <tr>\n",
              "      <th>0.6</th>\n",
              "      <td>0.031880</td>\n",
              "      <td>0.295302</td>\n",
              "    </tr>\n",
              "    <tr>\n",
              "      <th>0.7</th>\n",
              "      <td>0.018120</td>\n",
              "      <td>0.210291</td>\n",
              "    </tr>\n",
              "    <tr>\n",
              "      <th>0.8</th>\n",
              "      <td>0.006676</td>\n",
              "      <td>0.119687</td>\n",
              "    </tr>\n",
              "    <tr>\n",
              "      <th>0.9</th>\n",
              "      <td>0.002044</td>\n",
              "      <td>0.050336</td>\n",
              "    </tr>\n",
              "    <tr>\n",
              "      <th>1.0</th>\n",
              "      <td>0.000000</td>\n",
              "      <td>0.000000</td>\n",
              "    </tr>\n",
              "  </tbody>\n",
              "</table>\n",
              "</div>\n",
              "      <button class=\"colab-df-convert\" onclick=\"convertToInteractive('df-c33717ea-aba5-4c10-99dd-a28b69aa24af')\"\n",
              "              title=\"Convert this dataframe to an interactive table.\"\n",
              "              style=\"display:none;\">\n",
              "        \n",
              "  <svg xmlns=\"http://www.w3.org/2000/svg\" height=\"24px\"viewBox=\"0 0 24 24\"\n",
              "       width=\"24px\">\n",
              "    <path d=\"M0 0h24v24H0V0z\" fill=\"none\"/>\n",
              "    <path d=\"M18.56 5.44l.94 2.06.94-2.06 2.06-.94-2.06-.94-.94-2.06-.94 2.06-2.06.94zm-11 1L8.5 8.5l.94-2.06 2.06-.94-2.06-.94L8.5 2.5l-.94 2.06-2.06.94zm10 10l.94 2.06.94-2.06 2.06-.94-2.06-.94-.94-2.06-.94 2.06-2.06.94z\"/><path d=\"M17.41 7.96l-1.37-1.37c-.4-.4-.92-.59-1.43-.59-.52 0-1.04.2-1.43.59L10.3 9.45l-7.72 7.72c-.78.78-.78 2.05 0 2.83L4 21.41c.39.39.9.59 1.41.59.51 0 1.02-.2 1.41-.59l7.78-7.78 2.81-2.81c.8-.78.8-2.07 0-2.86zM5.41 20L4 18.59l7.72-7.72 1.47 1.35L5.41 20z\"/>\n",
              "  </svg>\n",
              "      </button>\n",
              "      \n",
              "  <style>\n",
              "    .colab-df-container {\n",
              "      display:flex;\n",
              "      flex-wrap:wrap;\n",
              "      gap: 12px;\n",
              "    }\n",
              "\n",
              "    .colab-df-convert {\n",
              "      background-color: #E8F0FE;\n",
              "      border: none;\n",
              "      border-radius: 50%;\n",
              "      cursor: pointer;\n",
              "      display: none;\n",
              "      fill: #1967D2;\n",
              "      height: 32px;\n",
              "      padding: 0 0 0 0;\n",
              "      width: 32px;\n",
              "    }\n",
              "\n",
              "    .colab-df-convert:hover {\n",
              "      background-color: #E2EBFA;\n",
              "      box-shadow: 0px 1px 2px rgba(60, 64, 67, 0.3), 0px 1px 3px 1px rgba(60, 64, 67, 0.15);\n",
              "      fill: #174EA6;\n",
              "    }\n",
              "\n",
              "    [theme=dark] .colab-df-convert {\n",
              "      background-color: #3B4455;\n",
              "      fill: #D2E3FC;\n",
              "    }\n",
              "\n",
              "    [theme=dark] .colab-df-convert:hover {\n",
              "      background-color: #434B5C;\n",
              "      box-shadow: 0px 1px 3px 1px rgba(0, 0, 0, 0.15);\n",
              "      filter: drop-shadow(0px 1px 2px rgba(0, 0, 0, 0.3));\n",
              "      fill: #FFFFFF;\n",
              "    }\n",
              "  </style>\n",
              "\n",
              "      <script>\n",
              "        const buttonEl =\n",
              "          document.querySelector('#df-c33717ea-aba5-4c10-99dd-a28b69aa24af button.colab-df-convert');\n",
              "        buttonEl.style.display =\n",
              "          google.colab.kernel.accessAllowed ? 'block' : 'none';\n",
              "\n",
              "        async function convertToInteractive(key) {\n",
              "          const element = document.querySelector('#df-c33717ea-aba5-4c10-99dd-a28b69aa24af');\n",
              "          const dataTable =\n",
              "            await google.colab.kernel.invokeFunction('convertToInteractive',\n",
              "                                                     [key], {});\n",
              "          if (!dataTable) return;\n",
              "\n",
              "          const docLinkHtml = 'Like what you see? Visit the ' +\n",
              "            '<a target=\"_blank\" href=https://colab.research.google.com/notebooks/data_table.ipynb>data table notebook</a>'\n",
              "            + ' to learn more about interactive tables.';\n",
              "          element.innerHTML = '';\n",
              "          dataTable['output_type'] = 'display_data';\n",
              "          await google.colab.output.renderOutput(dataTable, element);\n",
              "          const docLink = document.createElement('div');\n",
              "          docLink.innerHTML = docLinkHtml;\n",
              "          element.appendChild(docLink);\n",
              "        }\n",
              "      </script>\n",
              "    </div>\n",
              "  </div>\n",
              "  "
            ]
          },
          "metadata": {},
          "execution_count": 45
        }
      ]
    },
    {
      "cell_type": "code",
      "source": [
        "roc_auc_score(y_test[TARGET],y_Pred_test)"
      ],
      "metadata": {
        "id": "HK89LgvGkTli",
        "colab": {
          "base_uri": "https://localhost:8080/"
        },
        "outputId": "7325aa03-0b2a-4851-805a-0a6306f70cd7"
      },
      "execution_count": 46,
      "outputs": [
        {
          "output_type": "execute_result",
          "data": {
            "text/plain": [
              "0.7612774232089192"
            ]
          },
          "metadata": {},
          "execution_count": 46
        }
      ]
    }
  ]
}